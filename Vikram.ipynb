{
 "cells": [
  {
   "cell_type": "code",
   "execution_count": null,
   "metadata": {},
   "outputs": [],
   "source": [
    "import numpy as np\n",
    "from qiskit import *\n",
    "from qiskit.visualization import *\n",
    "from qiskit.circuit.library import *\n",
    "from qiskit.quantum_info import *\n",
    "import matplotlib.pyplot as plt\n",
    "\n",
    "\n",
    "qc1 = QuantumCircuit(5)\n",
    "qc1.draw()\n",
    "\n",
    "s1 = Statevector.from_label('11011')\n",
    "cir1 = Diagonal((-1)**s1.data)\n",
    "s2 = Statevector.from_label('11001')\n",
    "cir2 = Diagonal((-1)**s2.data)\n",
    "s3 = Statevector.from_label('11110')\n",
    "cir3 = Diagonal((-1)**s3.data)\n",
    "s4 = Statevector.from_label('11010')\n",
    "cir4 = Diagonal((-1)**s4.data)\n",
    "s5 = Statevector.from_label('11000')\n",
    "cir5 = Diagonal((-1)**s5.data)\n",
    "\n",
    "\n",
    "qc1.append(cir1, [0,1,2,3,4])\n",
    "qc1.append(cir2, [0,1,2,3,4])\n",
    "qc1.append(cir3, [0,1,2,3,4])\n",
    "qc1.append(cir4, [0,1,2,3,4])\n",
    "qc1.append(cir5, [0,1,2,3,4])\n",
    "qc1.draw()\n",
    "\n",
    "qc2.h([0,1,2,3,4])\n",
    "qc2.x([0,1,2,3,4])\n",
    "istate = Statevector.from_label('11111')\n",
    "istate = Diagonal((-1)**istate.data)\n",
    "qc2.append(istate, [0,1,2,3,4])\n",
    "qc2.x([0,1,2,3,4])\n",
    "qc2.h([0,1,2,3,4])\n",
    "\n",
    "qc2.draw()\n",
    "\n",
    "qc = QuantumCircuit(5,5)\n",
    "qc.h([0,1,2,3,4])\n",
    "\n",
    "for i in range(2):\n",
    "    qc.append(qc1,[0,1,2,3,4])\n",
    "    qc.append(qc2,[0,1,2,3,4])\n",
    "\n",
    "qc.draw()\n",
    "\n",
    "qc.measure([0,1,2,3,4],[0,1,2,3,4])\n",
    "backend = Aer.get_backend('aer_simulator')\n",
    "circuit = transpile(qc, backend)\n",
    "qobj = assemble(circuit)\n",
    "results = backend.run(qobj,iterations = 2).result()\n",
    "counts = results.get_counts()\n",
    "plot_histogram(counts)"
   ]
  },
  {
   "cell_type": "code",
   "execution_count": null,
   "metadata": {},
   "outputs": [],
   "source": []
  }
 ],
 "metadata": {
  "kernelspec": {
   "display_name": "Python 3",
   "language": "python",
   "name": "python3"
  },
  "language_info": {
   "codemirror_mode": {
    "name": "ipython",
    "version": 3
   },
   "file_extension": ".py",
   "mimetype": "text/x-python",
   "name": "python",
   "nbconvert_exporter": "python",
   "pygments_lexer": "ipython3",
   "version": "3.8.5"
  }
 },
 "nbformat": 4,
 "nbformat_minor": 4
}
